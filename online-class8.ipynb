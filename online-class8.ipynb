{
 "cells": [
  {
   "cell_type": "markdown",
   "metadata": {},
   "source": [
    "# ERROR HANDLING IN PYTHON 🤖"
   ]
  },
  {
   "cell_type": "code",
   "execution_count": 1,
   "metadata": {},
   "outputs": [
    {
     "ename": "SyntaxError",
     "evalue": "expected ':' (3857426897.py, line 1)",
     "output_type": "error",
     "traceback": [
      "\u001b[1;36m  Cell \u001b[1;32mIn[1], line 1\u001b[1;36m\u001b[0m\n\u001b[1;33m    try\u001b[0m\n\u001b[1;37m       ^\u001b[0m\n\u001b[1;31mSyntaxError\u001b[0m\u001b[1;31m:\u001b[0m expected ':'\n"
     ]
    }
   ],
   "source": [
    "try:\n",
    "    print( 10 / 0 )\n",
    "\n",
    "\n",
    "except SyntaxError:\n",
    "    print(\"your syntax is wrong\")\n",
    "\n",
    "except IndentationError:\n",
    "    print(\"your indentation is wrong\")\n",
    "\n",
    "except ZeroDivisionError:\n",
    "    print(\"your number is wrong\")"
   ]
  },
  {
   "cell_type": "code",
   "execution_count": 5,
   "metadata": {},
   "outputs": [
    {
     "name": "stdout",
     "output_type": "stream",
     "text": [
      "only number are accepted\n"
     ]
    }
   ],
   "source": [
    "# TRY:\n",
    "    # TRY THIS CODE\n",
    "\n",
    "# EXCEPT\n",
    "# DO THIS CODE\n",
    "\n",
    "try:\n",
    "    num = int(input(\"Enter a number: \"))\n",
    "    result = num / 10\n",
    "    print(f\"Result is: {result}\")\n",
    "\n",
    "except ZeroDivisionError:\n",
    "    print(\"cannot divide by zero.\")\n",
    "\n",
    "except ValueError:\n",
    "    print(\"only number are accepted\")\n"
   ]
  },
  {
   "cell_type": "markdown",
   "metadata": {},
   "source": [
    "# ERROR HANDLING IN API REQUEST"
   ]
  },
  {
   "cell_type": "code",
   "execution_count": null,
   "metadata": {},
   "outputs": [],
   "source": []
  },
  {
   "cell_type": "markdown",
   "metadata": {},
   "source": [
    "# MODULES IN PYTHON"
   ]
  },
  {
   "cell_type": "code",
   "execution_count": 2,
   "metadata": {},
   "outputs": [
    {
     "data": {
      "text/plain": [
       "'hello arsh'"
      ]
     },
     "execution_count": 2,
     "metadata": {},
     "output_type": "execute_result"
    }
   ],
   "source": [
    "from greeting import arsh\n",
    "\n",
    "arsh()"
   ]
  },
  {
   "cell_type": "code",
   "execution_count": 3,
   "metadata": {},
   "outputs": [
    {
     "name": "stdout",
     "output_type": "stream",
     "text": [
      "hello arsh\n"
     ]
    }
   ],
   "source": [
    "import greeting\n",
    "\n",
    "print(greeting.arsh())"
   ]
  },
  {
   "cell_type": "code",
   "execution_count": 8,
   "metadata": {},
   "outputs": [
    {
     "name": "stdout",
     "output_type": "stream",
     "text": [
      "Area of this circle is: 153.93804002589985\n"
     ]
    }
   ],
   "source": [
    "import math\n",
    "\n",
    "radius = 7\n",
    "area = math.pi * (radius ** 2)\n",
    "print(f\"Area of this circle is: {area}\")\n"
   ]
  },
  {
   "cell_type": "markdown",
   "metadata": {},
   "source": [
    "# PROJECT 🤖"
   ]
  },
  {
   "cell_type": "code",
   "execution_count": 8,
   "metadata": {},
   "outputs": [
    {
     "name": "stdout",
     "output_type": "stream",
     "text": [
      "sorry i only tell joke\n"
     ]
    }
   ],
   "source": [
    "joke = \"Here is a joke for you! Panaversity GPT - Sophia is heading out to the grocery store. A programmer tells her: get a liter of milk, and if they have eggs, get 12. Sophia returns with 13 liters of milk. The programmer asks why and Sophia replies: 'because they had eggs\"\n",
    "\n",
    "def bot():\n",
    "    user_input = input(\"What u want: \")\n",
    "    if \"joke\" in user_input:\n",
    "        print(joke)\n",
    "    else:\n",
    "        print(\"sorry i only tell joke\")\n",
    "\n",
    "bot()"
   ]
  },
  {
   "cell_type": "code",
   "execution_count": 11,
   "metadata": {},
   "outputs": [
    {
     "name": "stdout",
     "output_type": "stream",
     "text": [
      "Sorry i only tell joke\n"
     ]
    }
   ],
   "source": [
    "joke = \"Here is a joke for you! Panaversity GPT - Sophia is heading out to the grocery store. A programmer tells her: get a liter of milk, and if they have eggs, get 12. Sophia returns with 13 liters of milk. The programmer asks why and Sophia replies: 'because they had eggs\"\n",
    "sorry = \"Sorry i only tell joke\"\n",
    "prompt = \"what u want\"\n",
    "\n",
    "def bot():\n",
    "    user_input = input(f\"{prompt}: \")\n",
    "    if \"joke\" in user_input:\n",
    "        print(joke)\n",
    "    else:\n",
    "        print(sorry)\n",
    "\n",
    "bot()"
   ]
  }
 ],
 "metadata": {
  "kernelspec": {
   "display_name": "Python 3",
   "language": "python",
   "name": "python3"
  },
  "language_info": {
   "codemirror_mode": {
    "name": "ipython",
    "version": 3
   },
   "file_extension": ".py",
   "mimetype": "text/x-python",
   "name": "python",
   "nbconvert_exporter": "python",
   "pygments_lexer": "ipython3",
   "version": "3.13.1"
  }
 },
 "nbformat": 4,
 "nbformat_minor": 2
}
