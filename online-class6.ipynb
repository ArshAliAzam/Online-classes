{
 "cells": [
  {
   "cell_type": "code",
   "execution_count": null,
   "metadata": {},
   "outputs": [],
   "source": [
    "print(\"hello person\")\n",
    "\n",
    "def funtion_name(parameter):\n",
    "    #code block\n",
    "    return value"
   ]
  },
  {
   "cell_type": "markdown",
   "metadata": {},
   "source": [
    "# LETS GREET THROUGH FUNCTION"
   ]
  },
  {
   "cell_type": "code",
   "execution_count": null,
   "metadata": {},
   "outputs": [],
   "source": [
    "def greet():\n",
    "    # Block of code\n",
    "    print(\"hello person\")\n",
    "\n",
    "\n",
    "# Calling the function\n",
    "greet()"
   ]
  },
  {
   "cell_type": "markdown",
   "metadata": {},
   "source": [
    "# LET'S CREATE  FUNCTION WITH PARAMETER"
   ]
  },
  {
   "cell_type": "code",
   "execution_count": null,
   "metadata": {},
   "outputs": [],
   "source": [
    "def greet(name):\n",
    "    # block of code \n",
    "    print(f\"hello {name}\")\n",
    "\n",
    "\n",
    "# lets call the function eith a parameter\n",
    "greet(\"arsh\")\n",
    "greet(\"ali\")\n"
   ]
  },
  {
   "cell_type": "markdown",
   "metadata": {},
   "source": [
    "# LETS CREATE A FUNCTION WITH RETURN VALUE"
   ]
  },
  {
   "cell_type": "code",
   "execution_count": null,
   "metadata": {},
   "outputs": [],
   "source": [
    "def add_two(a, b):\n",
    "    # block of code\n",
    "    c = a + b\n",
    "    return c\n",
    "\n",
    "add_two(1,2)"
   ]
  },
  {
   "cell_type": "markdown",
   "metadata": {},
   "source": [
    "#  DEFINE  DEFAULT PARAMETERS"
   ]
  },
  {
   "cell_type": "code",
   "execution_count": 8,
   "metadata": {},
   "outputs": [
    {
     "name": "stdout",
     "output_type": "stream",
     "text": [
      "hello guest\n"
     ]
    },
    {
     "data": {
      "text/plain": [
       "198"
      ]
     },
     "execution_count": 8,
     "metadata": {},
     "output_type": "execute_result"
    }
   ],
   "source": [
    "def greet_with_default(name = \"guest\"):\n",
    "    print(f\"hello {name}\")\n",
    "\n",
    "# lets call the function\n",
    "greet_with_default()\n",
    "\n",
    "def add_two(a = 10, b = 20):\n",
    "    # block of code\n",
    "    c = a + b\n",
    "    return c\n",
    "\n",
    "add_two(99,99)"
   ]
  },
  {
   "cell_type": "markdown",
   "metadata": {},
   "source": [
    "# ASSIGNMEENT CALCULATOR"
   ]
  },
  {
   "cell_type": "code",
   "execution_count": 3,
   "metadata": {},
   "outputs": [
    {
     "name": "stdout",
     "output_type": "stream",
     "text": [
      "0.6666666666666666\n"
     ]
    }
   ],
   "source": [
    "num1 = int(input(\"Enter your first value: \"))\n",
    "operator = input(\"Enter '+' , '-' , '*' , '/' : \")\n",
    "num2 = int(input(\"Enter your second value: \"))\n",
    "\n",
    "def calculator(num1 , num2 , operator):\n",
    "\n",
    "    if operator == '+':\n",
    "        return num1 + num2\n",
    "    elif operator == '-':\n",
    "        return num1 - num2\n",
    "    elif operator == '*':\n",
    "        return num1 * num2\n",
    "    elif operator == '/':\n",
    "        return num1 / num2\n",
    "    else:\n",
    "        return \"Invalid value\"\n",
    "\n",
    "print(calculator(num1 , num2 , operator))"
   ]
  },
  {
   "cell_type": "markdown",
   "metadata": {},
   "source": [
    "#  MAKING CHAAY"
   ]
  },
  {
   "cell_type": "code",
   "execution_count": null,
   "metadata": {},
   "outputs": [],
   "source": [
    "print(\"step 1: boll water\")\n",
    "print(\"step 2: addd milk\")\n",
    "print(\"step 3: add pati\")\n",
    "print(\"step 4: serve tea\")\n",
    "tea = \"☕\"\n",
    "\n"
   ]
  },
  {
   "cell_type": "markdown",
   "metadata": {},
   "source": [
    "# PROGECT 1"
   ]
  },
  {
   "cell_type": "code",
   "execution_count": null,
   "metadata": {},
   "outputs": [],
   "source": [
    "def make_tea():\n",
    "    print(\"step 1: boll water\")\n",
    "    print(\"step 2: addd milk\")\n",
    "    print(\"step 3: add pati\")\n",
    "    print(\"step 4: serve tea\")\n",
    "    return \"❤️\"\n",
    " \n",
    "tea1 = make_tea() # ☕\n",
    "\n",
    "print(f\"{tea1} for Arsh\")"
   ]
  },
  {
   "cell_type": "markdown",
   "metadata": {},
   "source": [
    "# PARAMETER"
   ]
  },
  {
   "cell_type": "code",
   "execution_count": 2,
   "metadata": {},
   "outputs": [
    {
     "name": "stdout",
     "output_type": "stream",
     "text": [
      "user: Hello, my name is arsh\n",
      "AI: Hello, How it going?\n"
     ]
    }
   ],
   "source": [
    "def call_llm(prompt):\n",
    "    print(f\"user: {prompt}\")\n",
    "    return \"AI: Hello, How it going?\"\n",
    "\n",
    "#                           argument/prompt\n",
    "response = call_llm(prompt=\"Hello, my name is arsh\")\n",
    "\n",
    "print(response)"
   ]
  },
  {
   "cell_type": "markdown",
   "metadata": {},
   "source": [
    "# MAKING DICE"
   ]
  },
  {
   "cell_type": "code",
   "execution_count": null,
   "metadata": {},
   "outputs": [],
   "source": [
    "import random\n",
    "\n",
    "def roll_dice(limit = 6):\n",
    "    return random.randint(1, limit)\n",
    "\n",
    "# print(roll_dice( ))\n",
    "\n",
    "# print(roll_dice( 12 ))\n",
    "\n",
    "print(roll_dice( 24 ))"
   ]
  }
 ],
 "metadata": {
  "kernelspec": {
   "display_name": "Python 3",
   "language": "python",
   "name": "python3"
  },
  "language_info": {
   "codemirror_mode": {
    "name": "ipython",
    "version": 3
   },
   "file_extension": ".py",
   "mimetype": "text/x-python",
   "name": "python",
   "nbconvert_exporter": "python",
   "pygments_lexer": "ipython3",
   "version": "3.13.1"
  }
 },
 "nbformat": 4,
 "nbformat_minor": 2
}
